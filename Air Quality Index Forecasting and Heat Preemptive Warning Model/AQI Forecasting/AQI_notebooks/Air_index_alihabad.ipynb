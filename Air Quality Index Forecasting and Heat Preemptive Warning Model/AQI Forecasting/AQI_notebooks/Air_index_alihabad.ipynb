{
 "cells": [
  {
   "cell_type": "code",
   "execution_count": 161,
   "id": "6831734d",
   "metadata": {},
   "outputs": [],
   "source": [
    "import numpy as np\n",
    "import pandas as pd\n",
    "import matplotlib.pyplot as plt"
   ]
  },
  {
   "cell_type": "code",
   "execution_count": 162,
   "id": "e593a97d",
   "metadata": {},
   "outputs": [],
   "source": [
    "#!pip install numpy==1.23"
   ]
  },
  {
   "cell_type": "code",
   "execution_count": 163,
   "id": "85f266a3",
   "metadata": {},
   "outputs": [],
   "source": [
    "#!pip install statsmodels==0.13.2"
   ]
  },
  {
   "cell_type": "code",
   "execution_count": 164,
   "id": "866d8e49",
   "metadata": {},
   "outputs": [],
   "source": [
    "import warnings\n",
    "warnings.filterwarnings(\"ignore\")"
   ]
  },
  {
   "cell_type": "code",
   "execution_count": 165,
   "id": "a071299b",
   "metadata": {},
   "outputs": [],
   "source": [
    "data=pd.read_csv(r\"C:\\Users\\Micro\\Downloads\\AQI\\adilabad.csv\")"
   ]
  },
  {
   "cell_type": "code",
   "execution_count": 166,
   "id": "3f969efc",
   "metadata": {},
   "outputs": [
    {
     "name": "stdout",
     "output_type": "stream",
     "text": [
      "<class 'pandas.core.frame.DataFrame'>\n",
      "RangeIndex: 84 entries, 0 to 83\n",
      "Data columns (total 2 columns):\n",
      " #   Column  Non-Null Count  Dtype  \n",
      "---  ------  --------------  -----  \n",
      " 0   Date    84 non-null     object \n",
      " 1   AQI     84 non-null     float64\n",
      "dtypes: float64(1), object(1)\n",
      "memory usage: 1.4+ KB\n"
     ]
    }
   ],
   "source": [
    "data.info()"
   ]
  },
  {
   "cell_type": "code",
   "execution_count": 167,
   "id": "d8f56e3a",
   "metadata": {},
   "outputs": [],
   "source": [
    "data[\"Date\"]=pd.to_datetime(data[\"Date\"])\n",
    "data.set_index(data[\"Date\"],inplace=True)\n",
    "data.drop([\"Date\"],axis=1,inplace=True)"
   ]
  },
  {
   "cell_type": "code",
   "execution_count": 168,
   "id": "2da383cd",
   "metadata": {},
   "outputs": [
    {
     "data": {
      "text/html": [
       "<div>\n",
       "<style scoped>\n",
       "    .dataframe tbody tr th:only-of-type {\n",
       "        vertical-align: middle;\n",
       "    }\n",
       "\n",
       "    .dataframe tbody tr th {\n",
       "        vertical-align: top;\n",
       "    }\n",
       "\n",
       "    .dataframe thead th {\n",
       "        text-align: right;\n",
       "    }\n",
       "</style>\n",
       "<table border=\"1\" class=\"dataframe\">\n",
       "  <thead>\n",
       "    <tr style=\"text-align: right;\">\n",
       "      <th></th>\n",
       "      <th>AQI</th>\n",
       "    </tr>\n",
       "    <tr>\n",
       "      <th>Date</th>\n",
       "      <th></th>\n",
       "    </tr>\n",
       "  </thead>\n",
       "  <tbody>\n",
       "    <tr>\n",
       "      <th>2016-01-01</th>\n",
       "      <td>67.0</td>\n",
       "    </tr>\n",
       "    <tr>\n",
       "      <th>2016-02-01</th>\n",
       "      <td>68.0</td>\n",
       "    </tr>\n",
       "    <tr>\n",
       "      <th>2016-03-01</th>\n",
       "      <td>71.0</td>\n",
       "    </tr>\n",
       "    <tr>\n",
       "      <th>2016-04-01</th>\n",
       "      <td>70.0</td>\n",
       "    </tr>\n",
       "    <tr>\n",
       "      <th>2016-05-01</th>\n",
       "      <td>71.0</td>\n",
       "    </tr>\n",
       "  </tbody>\n",
       "</table>\n",
       "</div>"
      ],
      "text/plain": [
       "             AQI\n",
       "Date            \n",
       "2016-01-01  67.0\n",
       "2016-02-01  68.0\n",
       "2016-03-01  71.0\n",
       "2016-04-01  70.0\n",
       "2016-05-01  71.0"
      ]
     },
     "execution_count": 168,
     "metadata": {},
     "output_type": "execute_result"
    }
   ],
   "source": [
    "data.head()"
   ]
  },
  {
   "cell_type": "code",
   "execution_count": 169,
   "id": "466eabef",
   "metadata": {},
   "outputs": [],
   "source": [
    "original=data.copy()\n",
    "data=data[:60]"
   ]
  },
  {
   "cell_type": "code",
   "execution_count": 170,
   "id": "2b62760a",
   "metadata": {},
   "outputs": [
    {
     "data": {
      "text/plain": [
       "[<matplotlib.lines.Line2D at 0x1a3245eb070>]"
      ]
     },
     "execution_count": 170,
     "metadata": {},
     "output_type": "execute_result"
    },
    {
     "data": {
      "image/png": "[encoded data removed]",
      "text/plain": [
       "<Figure size 432x288 with 1 Axes>"
      ]
     },
     "metadata": {
      "needs_background": "light"
     },
     "output_type": "display_data"
    }
   ],
   "source": [
    "roll_mean = data.rolling(window=12).mean()\n",
    "roll_std = data.rolling(window=12).std()\n",
    "plt.plot(data,c='blue')\n",
    "plt.plot(roll_mean,c='red')\n",
    "plt.plot(roll_std,c='green')"
   ]
  },
  {
   "cell_type": "code",
   "execution_count": 171,
   "id": "05708e90",
   "metadata": {},
   "outputs": [
    {
     "data": {
      "text/plain": [
       "[<matplotlib.lines.Line2D at 0x1a32461f3d0>]"
      ]
     },
     "execution_count": 171,
     "metadata": {},
     "output_type": "execute_result"
    },
    {
     "data": {
      "image/png": "[encoded data removed]",
      "text/plain": [
       "<Figure size 432x288 with 1 Axes>"
      ]
     },
     "metadata": {
      "needs_background": "light"
     },
     "output_type": "display_data"
    }
   ],
   "source": [
    "plt.plot(original)"
   ]
  },
  {
   "cell_type": "code",
   "execution_count": 172,
   "id": "534f68d1",
   "metadata": {},
   "outputs": [
    {
     "name": "stdout",
     "output_type": "stream",
     "text": [
      "(-3.9862217010196033, 0.0014844019840701092, 0, 59, {'1%': -3.5463945337644063, '5%': -2.911939409384601, '10%': -2.5936515282964665}, 292.3309055293646)\n"
     ]
    }
   ],
   "source": [
    "from statsmodels.tsa.stattools import adfuller\n",
    "dftest = adfuller(data[\"AQI\"])\n",
    "print(dftest)"
   ]
  },
  {
   "cell_type": "code",
   "execution_count": 173,
   "id": "73c97aff",
   "metadata": {},
   "outputs": [],
   "source": [
    "shift1=data.AQI-data.AQI.shift(1)\n",
    "adfuller(shift1.dropna())\n",
    "shift1=pd.DataFrame(shift1)"
   ]
  },
  {
   "cell_type": "code",
   "execution_count": 174,
   "id": "69657bc1",
   "metadata": {
    "scrolled": true
   },
   "outputs": [
    {
     "data": {
      "image/png": "[encoded data removed]",
      "text/plain": [
       "<Figure size 432x288 with 1 Axes>"
      ]
     },
     "execution_count": 174,
     "metadata": {},
     "output_type": "execute_result"
    },
    {
     "data": {
      "image/png": "[encoded data removed]",
      "text/plain": [
       "<Figure size 432x288 with 1 Axes>"
      ]
     },
     "metadata": {
      "needs_background": "light"
     },
     "output_type": "display_data"
    },
    {
     "data": {
      "image/png": "[encoded data removed]",
      "text/plain": [
       "<Figure size 432x288 with 1 Axes>"
      ]
     },
     "metadata": {
      "needs_background": "light"
     },
     "output_type": "display_data"
    }
   ],
   "source": [
    "from statsmodels.graphics.tsaplots import plot_pacf,plot_acf\n",
    "plot_pacf(shift1.AQI.dropna())\n",
    "plot_acf(shift1.AQI.dropna())"
   ]
  },
  {
   "cell_type": "code",
   "execution_count": 175,
   "id": "8fc98c33",
   "metadata": {},
   "outputs": [],
   "source": [
    "from statsmodels.tsa.arima.model import ARIMA\n",
    "model = ARIMA(original,seasonal_order=(2,1,1,12)) \n",
    "model_fit = model.fit()"
   ]
  },
  {
   "cell_type": "code",
   "execution_count": 176,
   "id": "eb50b024",
   "metadata": {},
   "outputs": [
    {
     "data": {
      "text/plain": [
       "2023-01-01    58.758565\n",
       "2023-02-01    57.000724\n",
       "2023-03-01    58.389559\n",
       "2023-04-01    69.201490\n",
       "2023-05-01    60.914485\n",
       "2023-06-01    60.037352\n",
       "2023-07-01    50.362803\n",
       "2023-08-01    57.901430\n",
       "2023-09-01    57.581302\n",
       "2023-10-01    65.192650\n",
       "2023-11-01    58.816512\n",
       "2023-12-01    61.156175\n",
       "Freq: MS, Name: predicted_mean, dtype: float64"
      ]
     },
     "execution_count": 176,
     "metadata": {},
     "output_type": "execute_result"
    }
   ],
   "source": [
    "res=model_fit.forecast(12)\n",
    "res"
   ]
  },
  {
   "cell_type": "code",
   "execution_count": 177,
   "id": "0e36d14a",
   "metadata": {},
   "outputs": [],
   "source": [
    "# plt.plot(original[60:],label=\"Actual AQI\")\n",
    "# plt.plot(res,label=\"Predicted AQI\")\n",
    "# plt.legend()\n",
    "# plt.title(\"TESTING AQI-ALIHABAD\")\n",
    "# plt.figure(figsize=(10,5))\n",
    "# plt.tight_layout()"
   ]
  },
  {
   "cell_type": "code",
   "execution_count": 178,
   "id": "719346a0",
   "metadata": {},
   "outputs": [],
   "source": [
    "# from sklearn.metrics import mean_absolute_percentage_error\n",
    "# mean_absolute_percentage_error(original.AQI[60:].values,res)"
   ]
  },
  {
   "cell_type": "code",
   "execution_count": 179,
   "id": "79682716",
   "metadata": {},
   "outputs": [],
   "source": [
    "res=pd.DataFrame(res)"
   ]
  },
  {
   "cell_type": "code",
   "execution_count": 180,
   "id": "1e499b71",
   "metadata": {},
   "outputs": [],
   "source": [
    "res.to_csv(r\"C:\\Users\\Micro\\Downloads\\AQI\\aqipred_adilabad.csv\")\n",
    "#use whole data"
   ]
  },
  {
   "cell_type": "code",
   "execution_count": null,
   "id": "d4f2f3f8",
   "metadata": {},
   "outputs": [],
   "source": []
  }
 ],
 "metadata": {
  "kernelspec": {
   "display_name": "Python 3 (ipykernel)",
   "language": "python",
   "name": "python3"
  },
  "language_info": {
   "codemirror_mode": {
    "name": "ipython",
    "version": 3
   },
   "file_extension": ".py",
   "mimetype": "text/x-python",
   "name": "python",
   "nbconvert_exporter": "python",
   "pygments_lexer": "ipython3",
   "version": "3.9.7"
  }
 },
 "nbformat": 4,
 "nbformat_minor": 5
}
